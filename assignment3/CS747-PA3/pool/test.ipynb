{
 "cells": [
  {
   "cell_type": "code",
   "execution_count": 1,
   "metadata": {},
   "outputs": [],
   "source": [
    "import numpy as np\n",
    "import math"
   ]
  },
  {
   "cell_type": "code",
   "execution_count": 16,
   "metadata": {},
   "outputs": [
    {
     "name": "stdout",
     "output_type": "stream",
     "text": [
      "168.6900675259798\n",
      "168.6900675259798\n"
     ]
    }
   ],
   "source": [
    "x = -0.5\n",
    "y = 0.1\n",
    "print(np.arctan2(y, x)*180/np.pi)\n",
    "print(math.atan2(y, x)*180/math.pi)"
   ]
  },
  {
   "cell_type": "code",
   "execution_count": 2,
   "metadata": {},
   "outputs": [
    {
     "name": "stdout",
     "output_type": "stream",
     "text": [
      "4\n",
      "1\n",
      "2\n",
      "3\n"
     ]
    }
   ],
   "source": [
    "balls = [4,1,2,3]\n",
    "for i, ball in enumerate(balls):\n",
    "    print(ball)"
   ]
  },
  {
   "cell_type": "code",
   "execution_count": 3,
   "metadata": {},
   "outputs": [
    {
     "name": "stdout",
     "output_type": "stream",
     "text": [
      "The key with the least third element is: 4\n"
     ]
    }
   ],
   "source": [
    "def choose_ball(dictionary, index = 1):\n",
    "    min_key = None\n",
    "    min_value = float('inf')\n",
    "    for key, arr in dictionary.items():\n",
    "        if arr[index] < min_value:\n",
    "            min_key = key\n",
    "            min_value = arr[index]\n",
    "    return min_key\n",
    "\n",
    "# Example usage:\n",
    "my_dict = {\n",
    "    1: [10, 20, 5],\n",
    "    2: [30, 40, 2],\n",
    "    3: [50, 60, 8],\n",
    "    4: [70, 80, 1]\n",
    "}\n",
    "\n",
    "result_key = find_key_with_least_third_element(my_dict,2)\n",
    "if result_key is not None:\n",
    "    print(f\"The key with the least third element is: {result_key}\")\n",
    "else:\n",
    "    print(\"The dictionary is empty or has no arrays with at least 3 elements.\")"
   ]
  }
 ],
 "metadata": {
  "kernelspec": {
   "display_name": "Python 3",
   "language": "python",
   "name": "python3"
  },
  "language_info": {
   "codemirror_mode": {
    "name": "ipython",
    "version": 3
   },
   "file_extension": ".py",
   "mimetype": "text/x-python",
   "name": "python",
   "nbconvert_exporter": "python",
   "pygments_lexer": "ipython3",
   "version": "3.8.10"
  }
 },
 "nbformat": 4,
 "nbformat_minor": 2
}
